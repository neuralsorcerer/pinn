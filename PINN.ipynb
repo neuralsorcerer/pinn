{
  "nbformat": 4,
  "nbformat_minor": 0,
  "metadata": {
    "colab": {
      "provenance": [],
      "gpuType": "T4"
    },
    "kernelspec": {
      "name": "python3",
      "display_name": "Python 3"
    },
    "language_info": {
      "name": "python"
    },
    "accelerator": "GPU"
  },
  "cells": [
    {
      "cell_type": "markdown",
      "source": [
        "# Physics-Informed Neural Networks (PINNs) with PyTorch\n",
        "\n",
        "In this notebook, we implement a Physics-Informed Neural Network (PINN) to solve a simple ordinary differential equation (ODE):\n",
        "\n",
        "$$\n",
        "u''(x) + \\pi^2 u(x) = 0\n",
        "$$\n",
        "\n",
        "with boundary conditions:\n",
        "\n",
        "$$\n",
        "u(0)=0 \\quad \\text{and} \\quad u(1)=0.\n",
        "$$\n",
        "\n",
        "The well-known non-trivial solution to this problem is $ u(x) = \\sin(\\pi x) $. However, note that the trivial solution $ u(x)=0 $ also satisfies these conditions. To ensure the network learns the sine solution, we add an interior data point $ u(0.5)=1 $ as an extra constraint.\n",
        "\n",
        "This notebook walks through building the network, enforcing the PDE with automatic differentiation, setting up the loss function, training the model, and finally evaluating the result."
      ],
      "metadata": {
        "id": "qnzXboDo5M1v"
      }
    },
    {
      "cell_type": "code",
      "source": [
        "import torch\n",
        "import torch.nn as nn\n",
        "import torch.optim as optim\n",
        "import matplotlib.pyplot as plt\n",
        "import numpy as np"
      ],
      "metadata": {
        "id": "2hb3mToe5mFy"
      },
      "execution_count": 1,
      "outputs": []
    },
    {
      "cell_type": "markdown",
      "source": [
        "## Defining the PINN Neural Network Architecture\n",
        "\n",
        "We define a custom neural network class `PINN` which inherits from `nn.Module`. This network:\n",
        "- Uses a feedforward architecture.\n",
        "- Applies the hyperbolic tangent (Tanh) activation function in the hidden layers.\n",
        "- Has a configurable number of layers based on the provided `layers` list.\n",
        "\n",
        "The architecture is defined by the list `layers = [1, 20, 20, 20, 1]`, meaning:\n",
        "- One input neuron (for $ x $).\n",
        "- Three hidden layers with 20 neurons each.\n",
        "- One output neuron (for $ u(x) $)."
      ],
      "metadata": {
        "id": "97uoqIyg5tFV"
      }
    },
    {
      "cell_type": "code",
      "source": [
        "# Define the neural network architecture for the PINN\n",
        "class PINN(nn.Module):\n",
        "    def __init__(self, layers):\n",
        "        super(PINN, self).__init__()\n",
        "        self.activation = nn.Tanh()  # Using Tanh for smooth, non-linear activation\n",
        "        layer_list = []\n",
        "        for i in range(len(layers) - 1):\n",
        "            layer_list.append(nn.Linear(layers[i], layers[i+1]))\n",
        "        self.layers = nn.ModuleList(layer_list)\n",
        "\n",
        "    def forward(self, x):\n",
        "        # Pass input through all layers with activation (except final layer)\n",
        "        for i in range(len(self.layers) - 1):\n",
        "            x = self.activation(self.layers[i](x))\n",
        "        x = self.layers[-1](x)\n",
        "        return x\n",
        "\n",
        "# Create an instance of the network with defined architecture: 1 input, 3 hidden layers with 20 neurons, 1 output\n",
        "layers = [1, 20, 20, 20, 1]\n",
        "model = PINN(layers)"
      ],
      "metadata": {
        "id": "ke6mfrRQ52a-"
      },
      "execution_count": 2,
      "outputs": []
    },
    {
      "cell_type": "markdown",
      "source": [
        "## Defining the PDE Residual Function\n",
        "\n",
        "To incorporate the physics into our network, we need to ensure the predicted solution satisfies the differential equation. We achieve this by:\n",
        "- Using PyTorch's automatic differentiation (`torch.autograd.grad`) to compute the first and second derivatives of the network's output $ u(x) $ with respect to $ x $.\n",
        "- Computing the residual of the ODE:\n",
        "  \n",
        "  $$\n",
        "  \\text{residual} = u''(x) + \\pi^2 u(x)\n",
        "  $$\n",
        "\n",
        "The goal is to minimize this residual so that the network's prediction conforms to the ODE."
      ],
      "metadata": {
        "id": "kUnjwMy356YF"
      }
    },
    {
      "cell_type": "code",
      "source": [
        "# Function to compute the PDE residual: u''(x) + pi^2 * u(x) = 0\n",
        "def pde_residual(model, x):\n",
        "    # Ensure x has gradients for auto-differentiation\n",
        "    x = x.clone().detach().requires_grad_(True)\n",
        "    u = model(x)\n",
        "\n",
        "    # Compute the first derivative du/dx\n",
        "    u_x = torch.autograd.grad(u, x, grad_outputs=torch.ones_like(u), create_graph=True)[0]\n",
        "\n",
        "    # Compute the second derivative d^2u/dx^2\n",
        "    u_xx = torch.autograd.grad(u_x, x, grad_outputs=torch.ones_like(u_x), create_graph=True)[0]\n",
        "\n",
        "    # Calculate the residual of the PDE\n",
        "    residual = u_xx + (torch.pi**2) * u\n",
        "    return residual"
      ],
      "metadata": {
        "id": "eqRAy62p6DF0"
      },
      "execution_count": 3,
      "outputs": []
    },
    {
      "cell_type": "markdown",
      "source": [
        "## Setting Up Training Components\n",
        "\n",
        "### Optimizer and Training Parameters\n",
        "We use the Adam optimizer with a learning rate of $1e{-3}$ and set the number of training epochs to 5000.\n",
        "\n",
        "### Defining the Domain and Data Points\n",
        "- **Collocation Points (`x_collocation`)**: 100 evenly spaced points in $[0,1]$ where we enforce the PDE residual.\n",
        "- **Boundary Points (`x_boundary`)**: Points at $ x=0 $ and $ x=1 $ with the known boundary conditions $ u(0)=0 $ and $ u(1)=0 $.\n",
        "- **Interior Data Point (`x_interior`)**: An additional point at $ x=0.5 $ where we force $ u(0.5)=1 $ to steer the network away from the trivial zero solution."
      ],
      "metadata": {
        "id": "Xw2Z_ztg6INs"
      }
    },
    {
      "cell_type": "code",
      "source": [
        "# Set up the optimizer and training parameters\n",
        "optimizer = optim.Adam(model.parameters(), lr=1e-3)\n",
        "num_epochs = 5000\n",
        "\n",
        "# Define collocation points inside the domain for enforcing the PDE residual\n",
        "x_collocation = torch.linspace(0, 1, 100).view(-1, 1)\n",
        "\n",
        "# Define boundary points and their known values: u(0)=0 and u(1)=0\n",
        "x_boundary = torch.tensor([[0.0], [1.0]], dtype=torch.float32)\n",
        "u_boundary = torch.zeros_like(x_boundary)\n",
        "\n",
        "# Define an interior data point to enforce the non-trivial solution: for example, u(0.5)=1.0\n",
        "x_interior = torch.tensor([[0.5]], dtype=torch.float32)\n",
        "u_interior = torch.tensor([[1.0]], dtype=torch.float32)"
      ],
      "metadata": {
        "id": "6hg6-yxO6a-d"
      },
      "execution_count": 4,
      "outputs": []
    },
    {
      "cell_type": "markdown",
      "source": [
        "## Training the PINN\n",
        "\n",
        "In the training loop, we perform the following steps:\n",
        "1. **Zero the gradients** at the beginning of each epoch.\n",
        "2. **Compute the physics loss** by evaluating the PDE residual at the collocation points and taking the mean squared error.\n",
        "3. **Compute the boundary loss** by comparing the network's prediction at the boundary points with the known boundary values.\n",
        "4. **Compute the interior loss** by enforcing the condition $ u(0.5)=1 $.\n",
        "5. **Combine all loss components** to form the total loss.\n",
        "6. **Backpropagate** the total loss and update the model parameters using the optimizer.\n",
        "7. **Print training progress** every 500 epochs.\n",
        "\n",
        "The following cell implements the training process."
      ],
      "metadata": {
        "id": "cqTCsyfQ6elt"
      }
    },
    {
      "cell_type": "code",
      "source": [
        "# Training loop\n",
        "for epoch in range(num_epochs):\n",
        "    optimizer.zero_grad()\n",
        "\n",
        "    # Compute physics loss on collocation points (how well the PDE is satisfied)\n",
        "    res = pde_residual(model, x_collocation)\n",
        "    loss_physics = torch.mean(res**2)\n",
        "\n",
        "    # Compute boundary loss (enforcing u(0)=0 and u(1)=0)\n",
        "    u_pred_boundary = model(x_boundary)\n",
        "    loss_boundary = torch.mean((u_pred_boundary - u_boundary)**2)\n",
        "\n",
        "    # Compute interior loss (forcing u(0.5)=1)\n",
        "    u_pred_interior = model(x_interior)\n",
        "    loss_interior = torch.mean((u_pred_interior - u_interior)**2)\n",
        "\n",
        "    # Total loss: sum of physics, boundary, and interior data losses\n",
        "    loss = loss_physics + loss_boundary + loss_interior\n",
        "    loss.backward()\n",
        "    optimizer.step()\n",
        "\n",
        "    # Print training progress every 500 epochs\n",
        "    if epoch % 500 == 0:\n",
        "        print(f\"Epoch {epoch}: Total Loss = {loss.item():.6f}\")\n",
        "\n",
        "print(\"Training complete!\")"
      ],
      "metadata": {
        "colab": {
          "base_uri": "https://localhost:8080/"
        },
        "id": "vlGY_5Fb6lCl",
        "outputId": "9f5cb4f8-beb0-4ab9-f919-47d5bce440ae"
      },
      "execution_count": 5,
      "outputs": [
        {
          "output_type": "stream",
          "name": "stdout",
          "text": [
            "Epoch 0: Total Loss = 1.724636\n",
            "Epoch 500: Total Loss = 0.003156\n",
            "Epoch 1000: Total Loss = 0.000874\n",
            "Epoch 1500: Total Loss = 0.000411\n",
            "Epoch 2000: Total Loss = 0.000260\n",
            "Epoch 2500: Total Loss = 0.001062\n",
            "Epoch 3000: Total Loss = 0.000055\n",
            "Epoch 3500: Total Loss = 0.000039\n",
            "Epoch 4000: Total Loss = 0.004162\n",
            "Epoch 4500: Total Loss = 0.000020\n",
            "Training complete!\n"
          ]
        }
      ]
    },
    {
      "cell_type": "markdown",
      "source": [
        "## Evaluating and Visualizing the Result\n",
        "\n",
        "After training, we evaluate the trained model over the domain $[0, 1]$. We:\n",
        "- Generate test points.\n",
        "- Compute the network's predictions.\n",
        "- Compute the analytical solution $ u(x)=\\sin(\\pi x) $ for comparison.\n",
        "- Plot both the PINN prediction and the analytical solution using Matplotlib.\n",
        "\n",
        "This visual comparison helps us see how closely the network approximates the true solution."
      ],
      "metadata": {
        "id": "-_CAJ00-6ooM"
      }
    },
    {
      "cell_type": "code",
      "source": [
        "# Evaluate the trained model over the domain [0, 1]\n",
        "x_test = torch.linspace(0, 1, 100).view(-1, 1)\n",
        "with torch.no_grad():\n",
        "    u_pred = model(x_test).numpy().flatten()\n",
        "\n",
        "# Compute the analytical solution for comparison: u(x) = sin(pi * x)\n",
        "x_np = x_test.numpy().flatten()\n",
        "u_true = np.sin(np.pi * x_np)\n",
        "\n",
        "# Plot the PINN prediction vs. the analytical solution\n",
        "plt.figure(figsize=(8, 4))\n",
        "plt.plot(x_np, u_true, label='Analytical Solution (sin(pi*x))', linestyle='dashed')\n",
        "plt.plot(x_np, u_pred, label='PINN Prediction', marker='o', markersize=4)\n",
        "plt.xlabel('x')\n",
        "plt.ylabel('u(x)')\n",
        "plt.legend()\n",
        "plt.title('PINN Prediction vs. Analytical Solution')\n",
        "plt.show()"
      ],
      "metadata": {
        "colab": {
          "base_uri": "https://localhost:8080/",
          "height": 410
        },
        "id": "x1MRyEsf6vQH",
        "outputId": "f130a557-e160-4a93-f90b-4df4f9adfc8d"
      },
      "execution_count": 6,
      "outputs": [
        {
          "output_type": "display_data",
          "data": {
            "text/plain": [
              "<Figure size 800x400 with 1 Axes>"
            ],
            "image/png": "[encoded data removed]"
          },
          "metadata": {}
        }
      ]
    },
    {
      "cell_type": "markdown",
      "source": [
        "## Conclusion\n",
        "\n",
        "In this notebook, we built a Physics-Informed Neural Network (PINN) with PyTorch to solve the ODE:\n",
        "\n",
        "$$\n",
        "u''(x) + \\pi^2 u(x) = 0,\n",
        "$$\n",
        "\n",
        "with boundary conditions $ u(0)=0 $ and $ u(1)=0 $. To ensure the network learns the desired non-trivial solution $ u(x)=\\sin(\\pi x) $ instead of the trivial zero solution, we added an interior data point $ u(0.5)=1 $.\n",
        "\n",
        "The notebook demonstrated:\n",
        "- How to construct a simple feedforward network.\n",
        "- How to enforce physics using automatic differentiation.\n",
        "- How to define a loss function that combines physics, boundary, and interior data losses.\n",
        "- The training process and visualization of the network's prediction versus the analytical solution.\n",
        "\n",
        "This detailed explanation should help you understand how PINNs blend deep learning with physical laws to solve differential equations, even when data is limited."
      ],
      "metadata": {
        "id": "fBle2lY_64MV"
      }
    }
  ]
}